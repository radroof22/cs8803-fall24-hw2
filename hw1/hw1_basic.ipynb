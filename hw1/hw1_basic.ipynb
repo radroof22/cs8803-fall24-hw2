{
 "cells": [
  {
   "cell_type": "code",
   "execution_count": null,
   "metadata": {},
   "outputs": [],
   "source": [
    "%load_ext autoreload\n",
    "%autoreload 2"
   ]
  },
  {
   "cell_type": "code",
   "execution_count": null,
   "metadata": {},
   "outputs": [],
   "source": [
    "import gym\n",
    "import torch\n",
    "import numpy as np\n",
    "from loguru import logger\n",
    "from torch.optim import Adam\n",
    "import matplotlib.pyplot as plt\n",
    "from IPython.display import Image\n",
    "\n",
    "from src.utils import (\n",
    "    device,\n",
    "    set_seed,\n",
    "    eval_policy,\n",
    "    demo_policy,\n",
    "    plot_returns,\n",
    "    save_frames_as_gif\n",
    ")\n",
    "\n",
    "plt.ion()"
   ]
  },
  {
   "cell_type": "code",
   "execution_count": null,
   "metadata": {},
   "outputs": [],
   "source": [
    "SEED: int = 42\n",
    "ENVIRONMENT_NAME: str='LunarLander-v2'\n",
    "\n",
    "# torch related defaults\n",
    "DEVICE = device()\n",
    "torch.set_default_dtype(torch.float32)"
   ]
  },
  {
   "cell_type": "code",
   "execution_count": null,
   "metadata": {},
   "outputs": [],
   "source": [
    "# Use random seeds for reproducibility\n",
    "set_seed(SEED)\n",
    "\n",
    "# instantiate the environment\n",
    "environment = gym.make(ENVIRONMENT_NAME)\n",
    "\n",
    "# get the state and action dimensions\n",
    "num_actions = environment.action_space.n\n",
    "state_dimension = environment.observation_space.shape[0]"
   ]
  },
  {
   "cell_type": "markdown",
   "metadata": {},
   "source": [
    "***"
   ]
  },
  {
   "cell_type": "markdown",
   "metadata": {},
   "source": [
    "## 1. REINFORCE"
   ]
  },
  {
   "cell_type": "code",
   "execution_count": null,
   "metadata": {},
   "outputs": [],
   "source": [
    "from src.networks import Policy\n",
    "from src.reinforce import train_one_epoch as reinforce_epoch\n",
    "\n",
    "################################## Hyper-parameters Tuning ##################################\n",
    "\n",
    "EPOCHS: int = 10\n",
    "HIDDEN_DIMENSION: int = 4\n",
    "LEARNING_RATE: float = 1e-1\n",
    "\n",
    "#############################################################################################\n",
    "\n",
    "# Instantiate the policy network\n",
    "policy = Policy(\n",
    "    state_dimension, num_actions, hidden_dimension=HIDDEN_DIMENSION\n",
    ").to(DEVICE)\n",
    "\n",
    "# Learn the policy\n",
    "optimizer = Adam(policy.parameters(), LEARNING_RATE)\n",
    "\n",
    "# Loop for each epoch\n",
    "mean_returns, std_returns = [], []\n",
    "for epoch in range(EPOCHS):\n",
    "    reinforce_epoch(environment, policy, optimizer)\n",
    "    \n",
    "    episode_return_mean, episode_return_std = eval_policy(policy, ENVIRONMENT_NAME)\n",
    "    mean_returns.append(episode_return_mean)\n",
    "    std_returns.append(episode_return_std)\n",
    "    \n",
    "    logger.info(f'Epoch: {epoch:3d} \\t return: {episode_return_mean:.2f}')\n",
    "\n",
    "    if epoch:\n",
    "        plot_returns(\n",
    "            mean_returns, std_returns, method_name='reinforce', dynamic=True\n",
    "        )"
   ]
  },
  {
   "cell_type": "code",
   "execution_count": null,
   "metadata": {},
   "outputs": [],
   "source": [
    "plot_returns(\n",
    "    mean_returns, std_returns, method_name='reinforce'\n",
    ")"
   ]
  },
  {
   "cell_type": "code",
   "execution_count": null,
   "metadata": {},
   "outputs": [],
   "source": [
    "frames = demo_policy(\n",
    "    policy, ENVIRONMENT_NAME\n",
    ")\n",
    "gif_path = save_frames_as_gif(frames, method_name='reinforce')\n",
    "Image(open(gif_path,'rb').read())"
   ]
  },
  {
   "cell_type": "markdown",
   "metadata": {},
   "source": [
    "***"
   ]
  },
  {
   "cell_type": "markdown",
   "metadata": {},
   "source": [
    "## 2. Simple Q-iteration (no experience replay + target network)"
   ]
  },
  {
   "cell_type": "code",
   "execution_count": null,
   "metadata": {},
   "outputs": [],
   "source": [
    "from src.networks import ValueFunctionQ\n",
    "from src.q_iter import train_one_epoch as q_iter_epoch\n",
    "\n",
    "################################## Hyper-parameters Tuning ##################################\n",
    "\n",
    "EPOCHS: int = 10\n",
    "HIDDEN_DIMENSION: int = 4\n",
    "LEARNING_RATE: float = 1e-1\n",
    "\n",
    "#############################################################################################\n",
    "\n",
    "# Instantiate the state-action value function, Q\n",
    "Q = ValueFunctionQ(\n",
    "    state_dimension, num_actions, hidden_dimension=HIDDEN_DIMENSION\n",
    ").to(DEVICE)\n",
    "# Learn the policy\n",
    "optimizer = Adam(Q.parameters(), LEARNING_RATE)\n",
    "\n",
    "mean_returns, std_returns = [], []\n",
    "for epoch in range(EPOCHS):\n",
    "    q_iter_epoch(env=environment, Q=Q, optimizer=optimizer)\n",
    "    \n",
    "    episode_return_mean, episode_return_std = eval_policy(Q, ENVIRONMENT_NAME)\n",
    "    mean_returns.append(episode_return_mean)\n",
    "    std_returns.append(episode_return_std)\n",
    "    \n",
    "    from src.q_iter import eps\n",
    "    \n",
    "    logger.info(f'Epoch: {epoch:3d}, \\t return: {episode_return_mean:.2f}, \\t eps: {eps:.2f}')\n",
    "\n",
    "    if epoch:\n",
    "        plot_returns(\n",
    "            mean_returns, std_returns, method_name='dqn', dynamic=True\n",
    "        )"
   ]
  },
  {
   "cell_type": "code",
   "execution_count": null,
   "metadata": {},
   "outputs": [],
   "source": [
    "plot_returns(\n",
    "    mean_returns, std_returns, method_name='q_iteration'\n",
    ")"
   ]
  },
  {
   "cell_type": "code",
   "execution_count": null,
   "metadata": {},
   "outputs": [],
   "source": [
    "frames = demo_policy(\n",
    "    Q, ENVIRONMENT_NAME\n",
    ")\n",
    "gif_path = save_frames_as_gif(frames, method_name='q_iteration')\n",
    "Image(open(gif_path,'rb').read())"
   ]
  },
  {
   "cell_type": "markdown",
   "metadata": {},
   "source": [
    "***"
   ]
  },
  {
   "cell_type": "markdown",
   "metadata": {},
   "source": [
    "## Experience Replay Buffer/Memory"
   ]
  },
  {
   "cell_type": "code",
   "execution_count": null,
   "metadata": {},
   "outputs": [],
   "source": [
    "from src.buffer import ReplayBuffer\n",
    "################################## Hyper-parameters Tuning ##################################\n",
    "\n",
    "BATCH_SIZE: int = 8\n",
    "#############################################################################################\n",
    "\n",
    "# instantiate the memory replay buffer\n",
    "memory = ReplayBuffer(\n",
    "    capacity=10_000, batch_size=BATCH_SIZE\n",
    ")"
   ]
  },
  {
   "cell_type": "markdown",
   "metadata": {},
   "source": [
    "***"
   ]
  },
  {
   "cell_type": "markdown",
   "metadata": {},
   "source": [
    "## 3. DQN (Deep Q-learning + experience replay + target network)"
   ]
  },
  {
   "cell_type": "code",
   "execution_count": null,
   "metadata": {},
   "outputs": [],
   "source": [
    "from src.networks import ValueFunctionQ\n",
    "from src.dqn import train_one_epoch as dqn_epoch\n",
    "\n",
    "################################## Hyper-parameters Tuning ##################################\n",
    "\n",
    "EPOCHS: int = 10\n",
    "HIDDEN_DIMENSION: int = 4\n",
    "LEARNING_RATE: float = 1e-1\n",
    "\n",
    "#############################################################################################\n",
    "\n",
    "# instantiate the state-action value function, Q\n",
    "Q = ValueFunctionQ(\n",
    "    state_dimension, num_actions, hidden_dimension=HIDDEN_DIMENSION\n",
    ").to(DEVICE)\n",
    "# initialize the target network\n",
    "target_Q = ValueFunctionQ(\n",
    "    state_dimension, num_actions, hidden_dimension=HIDDEN_DIMENSION\n",
    ").to(DEVICE)\n",
    "\n",
    "# Learn the policy\n",
    "optimizer = Adam(Q.parameters(), LEARNING_RATE)\n",
    "\n",
    "memory.clear()\n",
    "mean_returns, std_returns = [], []\n",
    "for epoch in range(EPOCHS):\n",
    "    \n",
    "    # copy target network params\n",
    "    target_Q.load_state_dict(Q.state_dict())\n",
    "\n",
    "    dqn_epoch(\n",
    "        env=environment, Q=Q, target_Q=target_Q,\n",
    "        memory=memory, optimizer=optimizer\n",
    "    )\n",
    "    \n",
    "    episode_return_mean, episode_return_std = eval_policy(Q, ENVIRONMENT_NAME)\n",
    "    mean_returns.append(episode_return_mean)\n",
    "    std_returns.append(episode_return_std)\n",
    "\n",
    "    from src.dqn import eps\n",
    "    \n",
    "    logger.info(f'Epoch: {epoch:3d}, \\t return: {episode_return_mean:.2f}, \\t eps: {eps:.2f}')\n",
    "\n",
    "    if epoch:\n",
    "        plot_returns(\n",
    "            mean_returns, std_returns, method_name='dqn', dynamic=True\n",
    "        )"
   ]
  },
  {
   "cell_type": "code",
   "execution_count": null,
   "metadata": {},
   "outputs": [],
   "source": [
    "plot_returns(\n",
    "    mean_returns, std_returns, method_name='dqn'\n",
    ")"
   ]
  },
  {
   "cell_type": "code",
   "execution_count": null,
   "metadata": {},
   "outputs": [],
   "source": [
    "frames = demo_policy(\n",
    "    Q, ENVIRONMENT_NAME\n",
    ")\n",
    "gif_path = save_frames_as_gif(frames, method_name='dqn')\n",
    "Image(open(gif_path,'rb').read())"
   ]
  },
  {
   "cell_type": "markdown",
   "metadata": {},
   "source": [
    "***"
   ]
  },
  {
   "cell_type": "markdown",
   "metadata": {},
   "source": [
    "## 4. Actor-Critic"
   ]
  },
  {
   "cell_type": "code",
   "execution_count": null,
   "metadata": {},
   "outputs": [],
   "source": [
    "from src.networks import Policy\n",
    "from src.networks import ValueFunctionQ\n",
    "from src.ac import train_one_epoch as ac_epoch\n",
    "\n",
    "################################## Hyper-parameters Tuning ##################################\n",
    "\n",
    "EPOCHS: int = 10\n",
    "HIDDEN_DIMENSION: int = 4\n",
    "LEARNING_RATE: float = 1e-1\n",
    "\n",
    "#############################################################################################\n",
    "\n",
    "# instantiate the state-action value function, Q\n",
    "Q = ValueFunctionQ(\n",
    "    state_dimension, num_actions, hidden_dimension=HIDDEN_DIMENSION\n",
    ").to(DEVICE)\n",
    "# initialize the target network\n",
    "target_Q = ValueFunctionQ(\n",
    "    state_dimension, num_actions, hidden_dimension=HIDDEN_DIMENSION\n",
    ").to(DEVICE)\n",
    "# initialize the policy network\n",
    "policy = Policy(\n",
    "    state_dimension, num_actions, hidden_dimension=HIDDEN_DIMENSION\n",
    ").to(DEVICE)\n",
    "\n",
    "# Learn the policy and Q\n",
    "optimizer_Q = Adam(Q.parameters(), lr=LEARNING_RATE)\n",
    "optimizer_pi = Adam(policy.parameters(), lr=LEARNING_RATE)\n",
    "\n",
    "memory.clear()\n",
    "mean_returns, std_returns = [], []\n",
    "for epoch in range(EPOCHS):\n",
    "\n",
    "    # copy target network params\n",
    "    target_Q.load_state_dict(Q.state_dict())\n",
    "    \n",
    "    ac_epoch(\n",
    "        env=environment,\n",
    "        policy=policy, Q=Q, target_Q=target_Q,\n",
    "        memory=memory, optimizer_Q=optimizer_Q, optimizer_pi=optimizer_pi\n",
    "    )\n",
    "    \n",
    "    episode_return_mean, episode_return_std = eval_policy(policy, ENVIRONMENT_NAME)\n",
    "    mean_returns.append(episode_return_mean)\n",
    "    std_returns.append(episode_return_std)\n",
    "    \n",
    "    logger.info(f'Epoch: {epoch:3d} \\t return: {episode_return_mean:.2f}')\n",
    "\n",
    "    if epoch:\n",
    "        plot_returns(\n",
    "            mean_returns, std_returns, method_name='ac', dynamic=True\n",
    "        )"
   ]
  },
  {
   "cell_type": "code",
   "execution_count": null,
   "metadata": {},
   "outputs": [],
   "source": [
    "plot_returns(\n",
    "    mean_returns, std_returns, method_name='ac'\n",
    ")"
   ]
  },
  {
   "cell_type": "code",
   "execution_count": null,
   "metadata": {},
   "outputs": [],
   "source": [
    "frames = demo_policy(\n",
    "    policy, ENVIRONMENT_NAME,\n",
    ")\n",
    "gif_path = save_frames_as_gif(frames, method_name='ac')\n",
    "Image(open(gif_path,'rb').read())"
   ]
  },
  {
   "cell_type": "markdown",
   "metadata": {},
   "source": [
    "***"
   ]
  }
 ],
 "metadata": {
  "kernelspec": {
   "display_name": "Python 3",
   "language": "python",
   "name": "python3"
  },
  "language_info": {
   "codemirror_mode": {
    "name": "ipython",
    "version": 3
   },
   "file_extension": ".py",
   "mimetype": "text/x-python",
   "name": "python",
   "nbconvert_exporter": "python",
   "pygments_lexer": "ipython3",
   "version": "3.7.4"
  }
 },
 "nbformat": 4,
 "nbformat_minor": 4
}
